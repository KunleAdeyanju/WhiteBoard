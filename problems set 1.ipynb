{
 "cells": [
  {
   "cell_type": "markdown",
   "metadata": {},
   "source": [
    "Here are **three Python whiteboard interview questions** tailored for a **junior data engineering role**. They test your understanding of data structures, basic data processing, and ETL-style transformations, all of which are common in data engineering work.\n",
    "\n",
    "---\n",
    "\n",
    "\n",
    "\n",
    "---\n",
    "\n",
    "---\n",
    "\n",
    "\n",
    "\n",
    "---\n",
    "\n",
    "Would you like me to walk you through solutions or help you practice answering these?"
   ]
  },
  {
   "cell_type": "markdown",
   "metadata": {},
   "source": []
  },
  {
   "cell_type": "markdown",
   "metadata": {},
   "source": [
    "### ✅ **1. Transform Nested JSON to Flattened Dictionary**\n",
    "\n",
    "**Problem:**\n",
    "Given a nested JSON-like dictionary, write a function to flatten it. Each key in the flattened dictionary should represent the full path to the value.\n",
    "\n",
    "**Example Input:**\n",
    "```python\n",
    "{\n",
    "  \"user\": {\n",
    "    \"id\": 1,\n",
    "    \"info\": {\n",
    "      \"name\": \"Alice\",\n",
    "      \"location\": \"NY\"\n",
    "    }\n",
    "  },\n",
    "  \"active\": True\n",
    "}\n",
    "```\n",
    "\n",
    "**Expected Output:**\n",
    "```python\n",
    "{\n",
    "  \"user.id\": 1,\n",
    "  \"user.info.name\": \"Alice\",\n",
    "  \"user.info.location\": \"NY\",\n",
    "  \"active\": True\n",
    "}\n",
    "```\n",
    "\n",
    "**Follow-up:** What would you change if the JSON included lists?"
   ]
  },
  {
   "cell_type": "code",
   "execution_count": 4,
   "metadata": {},
   "outputs": [
    {
     "data": {
      "text/plain": [
       "str"
      ]
     },
     "execution_count": 4,
     "metadata": {},
     "output_type": "execute_result"
    }
   ],
   "source": [
    "import json\n",
    "\n",
    "s = {\n",
    "  \"user\": {\n",
    "    \"id\": 1,\n",
    "    \"info\": {\n",
    "      \"name\": \"Alice\",\n",
    "      \"location\": \"NY\"\n",
    "    }\n",
    "  },\n",
    "  \"active\": True\n",
    "}\n",
    "\n",
    "y = json.dumps(s)\n",
    "type(y)\n"
   ]
  },
  {
   "cell_type": "code",
   "execution_count": null,
   "metadata": {},
   "outputs": [],
   "source": []
  },
  {
   "cell_type": "markdown",
   "metadata": {},
   "source": [
    "### ✅ **2. Find Most Frequent Value in a Log File**\n",
    "\n",
    "**Problem:**\n",
    "You're given a list of strings representing event logs. Write a function to find the most frequent event.\n",
    "\n",
    "**Example Input:**\n",
    "```python\n",
    "logs = [\n",
    "  \"ERROR\",\n",
    "  \"INFO\",\n",
    "  \"DEBUG\",\n",
    "  \"ERROR\",\n",
    "  \"INFO\",\n",
    "  \"ERROR\"\n",
    "]\n",
    "```\n",
    "\n",
    "**Expected Output:**\n",
    "```python\n",
    "\"ERROR\"\n",
    "```\n",
    "\n",
    "**Follow-up:** How would you handle a large file that doesn't fit in memory?"
   ]
  },
  {
   "cell_type": "code",
   "execution_count": 7,
   "metadata": {},
   "outputs": [
    {
     "data": {
      "text/plain": [
       "'ERROR'"
      ]
     },
     "execution_count": 7,
     "metadata": {},
     "output_type": "execute_result"
    }
   ],
   "source": [
    "logs = [\n",
    "  \"ERROR\",\n",
    "  \"INFO\",\n",
    "  \"DEBUG\",\n",
    "  \"ERROR\",\n",
    "  \"INFO\",\n",
    "  \"ERROR\"\n",
    "]\n",
    "\n",
    "ans = {}\n",
    "for i in logs:\n",
    "    if i in ans:\n",
    "        ans[i] += 1\n",
    "    else:\n",
    "        ans[i] = 1\n",
    "\n",
    "ans\n",
    "max(ans, key=ans.get)\n"
   ]
  },
  {
   "cell_type": "markdown",
   "metadata": {},
   "source": [
    "✅ Strengths:\n",
    "Correctness: Your code correctly computes the most frequent log entry.\n",
    "\n",
    "Clarity: It's easy to read and understand.\n",
    "\n",
    "Efficiency: It runs in O(n) time and uses O(k) space, where n is the number of logs and k is the number of unique log types — which is optimal."
   ]
  },
  {
   "cell_type": "markdown",
   "metadata": {},
   "source": [
    "✏️ Optional Improvements:\n",
    "1. Use collections.Counter for conciseness:"
   ]
  },
  {
   "cell_type": "code",
   "execution_count": null,
   "metadata": {},
   "outputs": [
    {
     "data": {
      "text/plain": [
       "Counter({'ERROR': 3, 'INFO': 2, 'DEBUG': 1})"
      ]
     },
     "execution_count": 10,
     "metadata": {},
     "output_type": "execute_result"
    }
   ],
   "source": [
    "from collections import Counter\n",
    "logs = [\n",
    "  \"ERROR\", \"INFO\", \"DEBUG\", \"ERROR\", \"INFO\", \"ERROR\"\n",
    "]\n",
    "most_common = Counter(logs).most_common(1)[0][0]\n",
    "most_common\n",
    "\n",
    "Counter(logs)\n",
    "# so most_common(1) -> [('ERROR',3)]\n",
    "# [0][0] extracts just the 'ERROR'"
   ]
  },
  {
   "cell_type": "markdown",
   "metadata": {},
   "source": [
    "🧠 Follow-up - Large File That Doesn’t Fit in Memory\n",
    "Your current solution assumes all data fits in memory. For large log files, you’d need to:\n",
    "\n",
    "Process the file line by line using a generator or iterator.\n",
    "\n",
    "Keep a frequency map incrementally to avoid loading the entire file at once."
   ]
  },
  {
   "cell_type": "code",
   "execution_count": null,
   "metadata": {},
   "outputs": [],
   "source": [
    "from collections import defaultdict\n",
    "\n",
    "def most_frequent_event(file_path):\n",
    "    counter = defaultdict(int)\n",
    "    with open(file_path, 'r') as f:\n",
    "        for line in f:\n",
    "            event = line.strip()\n",
    "            counter[event] += 1\n",
    "    return max(counter, key=counter.get)\n"
   ]
  },
  {
   "cell_type": "markdown",
   "metadata": {},
   "source": [
    "### ✅ **3. Simulate a Simple ETL Pipeline**\n",
    "\n",
    "**Problem:**\n",
    "You’re given a CSV file containing user data in the format:  \n",
    "`user_id, name, signup_date`\n",
    "\n",
    "Write Python code to:\n",
    "- Load the data from a list of strings (simulate reading from file).\n",
    "- Convert `signup_date` to a `datetime` object.\n",
    "- Return a list of dictionaries sorted by `signup_date`.\n",
    "\n",
    "**Example Input:**\n",
    "```python\n",
    "rows = [\n",
    "  \"1,Alice,2023-06-01\",\n",
    "  \"2,Bob,2023-05-25\",\n",
    "  \"3,Charlie,2023-06-10\"\n",
    "]\n",
    "```\n",
    "\n",
    "**Expected Output:**\n",
    "```python\n",
    "[\n",
    "  {'user_id': 2, 'name': 'Bob', 'signup_date': datetime.date(2023, 5, 25)},\n",
    "  {'user_id': 1, 'name': 'Alice', 'signup_date': datetime.date(2023, 6, 1)},\n",
    "  {'user_id': 3, 'name': 'Charlie', 'signup_date': datetime.date(2023, 6, 10)}\n",
    "]\n",
    "```\n",
    "\n",
    "**Follow-up:** How would you handle invalid date formats in real data?"
   ]
  },
  {
   "cell_type": "code",
   "execution_count": null,
   "metadata": {},
   "outputs": [],
   "source": [
    "import csv\n",
    "\n",
    "with open('./test_data/problems1.csv', mode='r') as file:\n",
    "    cs_fil = csv."
   ]
  },
  {
   "cell_type": "code",
   "execution_count": 11,
   "metadata": {},
   "outputs": [
    {
     "name": "stdout",
     "output_type": "stream",
     "text": [
      "2025-06-17 13:34:22.559922\n"
     ]
    }
   ],
   "source": [
    "from datetime import datetime\n",
    "\n",
    "# Get current date and time\n",
    "now = datetime.now()\n",
    "print(now)\n",
    "\n"
   ]
  },
  {
   "cell_type": "code",
   "execution_count": 16,
   "metadata": {},
   "outputs": [
    {
     "name": "stdout",
     "output_type": "stream",
     "text": [
      "2025-07-01 00:00:00\n",
      "2025-07-01\n"
     ]
    }
   ],
   "source": [
    "# Create a specific datetime object\n",
    "specific_date = datetime(2025, 7, 1)\n",
    "print(specific_date)\n",
    "\n",
    "format_sd = specific_date.strftime(\"%Y-%m-%d\")\n",
    "print(format_sd)\n"
   ]
  },
  {
   "cell_type": "code",
   "execution_count": 13,
   "metadata": {},
   "outputs": [
    {
     "name": "stdout",
     "output_type": "stream",
     "text": [
      "2025-06-17 13:34:22\n"
     ]
    }
   ],
   "source": [
    "# Format the datetime\n",
    "formatted_date = now.strftime(\"%Y-%m-%d %H:%M:%S\")\n",
    "print(formatted_date)"
   ]
  }
 ],
 "metadata": {
  "kernelspec": {
   "display_name": "Python 3",
   "language": "python",
   "name": "python3"
  },
  "language_info": {
   "codemirror_mode": {
    "name": "ipython",
    "version": 3
   },
   "file_extension": ".py",
   "mimetype": "text/x-python",
   "name": "python",
   "nbconvert_exporter": "python",
   "pygments_lexer": "ipython3",
   "version": "3.11.9"
  }
 },
 "nbformat": 4,
 "nbformat_minor": 2
}
