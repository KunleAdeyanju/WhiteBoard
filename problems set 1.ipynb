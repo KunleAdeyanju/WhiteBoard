{
 "cells": [
  {
   "cell_type": "markdown",
   "metadata": {},
   "source": [
    "Here are **three Python whiteboard interview questions** tailored for a **junior data engineering role**. They test your understanding of data structures, basic data processing, and ETL-style transformations, all of which are common in data engineering work.\n",
    "\n",
    "---\n",
    "\n",
    "\n",
    "\n",
    "---\n",
    "\n",
    "---\n",
    "\n",
    "\n",
    "\n",
    "---\n",
    "\n",
    "Would you like me to walk you through solutions or help you practice answering these?"
   ]
  },
  {
   "cell_type": "markdown",
   "metadata": {},
   "source": []
  },
  {
   "cell_type": "markdown",
   "metadata": {},
   "source": [
    "### ✅ **1. Transform Nested JSON to Flattened Dictionary**\n",
    "\n",
    "**Problem:**\n",
    "Given a nested JSON-like dictionary, write a function to flatten it. Each key in the flattened dictionary should represent the full path to the value.\n",
    "\n",
    "**Example Input:**\n",
    "```python\n",
    "{\n",
    "  \"user\": {\n",
    "    \"id\": 1,\n",
    "    \"info\": {\n",
    "      \"name\": \"Alice\",\n",
    "      \"location\": \"NY\"\n",
    "    }\n",
    "  },\n",
    "  \"active\": True\n",
    "}\n",
    "```\n",
    "\n",
    "**Expected Output:**\n",
    "```python\n",
    "{\n",
    "  \"user.id\": 1,\n",
    "  \"user.info.name\": \"Alice\",\n",
    "  \"user.info.location\": \"NY\",\n",
    "  \"active\": True\n",
    "}\n",
    "```\n",
    "\n",
    "**Follow-up:** What would you change if the JSON included lists?"
   ]
  },
  {
   "cell_type": "code",
   "execution_count": 4,
   "metadata": {},
   "outputs": [
    {
     "data": {
      "text/plain": [
       "str"
      ]
     },
     "execution_count": 4,
     "metadata": {},
     "output_type": "execute_result"
    }
   ],
   "source": [
    "import json\n",
    "\n",
    "s = {\n",
    "  \"user\": {\n",
    "    \"id\": 1,\n",
    "    \"info\": {\n",
    "      \"name\": \"Alice\",\n",
    "      \"location\": \"NY\"\n",
    "    }\n",
    "  },\n",
    "  \"active\": True\n",
    "}\n",
    "\n",
    "y = json.dumps(s)\n",
    "type(y)\n"
   ]
  },
  {
   "cell_type": "code",
   "execution_count": null,
   "metadata": {},
   "outputs": [],
   "source": []
  },
  {
   "cell_type": "markdown",
   "metadata": {},
   "source": [
    "### ✅ **2. Find Most Frequent Value in a Log File**\n",
    "\n",
    "**Problem:**\n",
    "You're given a list of strings representing event logs. Write a function to find the most frequent event.\n",
    "\n",
    "**Example Input:**\n",
    "```python\n",
    "logs = [\n",
    "  \"ERROR\",\n",
    "  \"INFO\",\n",
    "  \"DEBUG\",\n",
    "  \"ERROR\",\n",
    "  \"INFO\",\n",
    "  \"ERROR\"\n",
    "]\n",
    "```\n",
    "\n",
    "**Expected Output:**\n",
    "```python\n",
    "\"ERROR\"\n",
    "```\n",
    "\n",
    "**Follow-up:** How would you handle a large file that doesn't fit in memory?"
   ]
  },
  {
   "cell_type": "code",
   "execution_count": 6,
   "metadata": {},
   "outputs": [
    {
     "data": {
      "text/plain": [
       "{'ERROR': 3, 'INFO': 2, 'DEBUG': 1}"
      ]
     },
     "execution_count": 6,
     "metadata": {},
     "output_type": "execute_result"
    }
   ],
   "source": [
    "logs = [\n",
    "  \"ERROR\",\n",
    "  \"INFO\",\n",
    "  \"DEBUG\",\n",
    "  \"ERROR\",\n",
    "  \"INFO\",\n",
    "  \"ERROR\"\n",
    "]\n",
    "\n",
    "ans = {}\n",
    "for i in logs:\n",
    "    if i in ans:\n",
    "        ans[i] += 1\n",
    "    else:\n",
    "        ans[i] = 1\n",
    "\n",
    "ans\n"
   ]
  },
  {
   "cell_type": "markdown",
   "metadata": {},
   "source": [
    "### ✅ **3. Simulate a Simple ETL Pipeline**\n",
    "\n",
    "**Problem:**\n",
    "You’re given a CSV file containing user data in the format:  \n",
    "`user_id, name, signup_date`\n",
    "\n",
    "Write Python code to:\n",
    "- Load the data from a list of strings (simulate reading from file).\n",
    "- Convert `signup_date` to a `datetime` object.\n",
    "- Return a list of dictionaries sorted by `signup_date`.\n",
    "\n",
    "**Example Input:**\n",
    "```python\n",
    "rows = [\n",
    "  \"1,Alice,2023-06-01\",\n",
    "  \"2,Bob,2023-05-25\",\n",
    "  \"3,Charlie,2023-06-10\"\n",
    "]\n",
    "```\n",
    "\n",
    "**Expected Output:**\n",
    "```python\n",
    "[\n",
    "  {'user_id': 2, 'name': 'Bob', 'signup_date': datetime.date(2023, 5, 25)},\n",
    "  {'user_id': 1, 'name': 'Alice', 'signup_date': datetime.date(2023, 6, 1)},\n",
    "  {'user_id': 3, 'name': 'Charlie', 'signup_date': datetime.date(2023, 6, 10)}\n",
    "]\n",
    "```\n",
    "\n",
    "**Follow-up:** How would you handle invalid date formats in real data?"
   ]
  },
  {
   "cell_type": "code",
   "execution_count": null,
   "metadata": {},
   "outputs": [],
   "source": []
  }
 ],
 "metadata": {
  "kernelspec": {
   "display_name": "Python 3",
   "language": "python",
   "name": "python3"
  },
  "language_info": {
   "codemirror_mode": {
    "name": "ipython",
    "version": 3
   },
   "file_extension": ".py",
   "mimetype": "text/x-python",
   "name": "python",
   "nbconvert_exporter": "python",
   "pygments_lexer": "ipython3",
   "version": "3.11.9"
  }
 },
 "nbformat": 4,
 "nbformat_minor": 2
}
