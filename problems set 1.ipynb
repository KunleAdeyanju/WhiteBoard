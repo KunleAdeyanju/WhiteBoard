{
 "cells": [
  {
   "cell_type": "markdown",
   "metadata": {},
   "source": [
    "# three Python whiteboard interview questions tailored for a junior data engineering role. \n",
    "\n",
    "They test your understanding of data structures, basic data processing, and ETL-style transformations, all of which are common in data engineering work."
   ]
  },
  {
   "cell_type": "markdown",
   "metadata": {},
   "source": []
  },
  {
   "cell_type": "markdown",
   "metadata": {},
   "source": [
    "### ✅ **1. Transform Nested JSON to Flattened Dictionary**\n",
    "\n",
    "**Problem:**\n",
    "Given a nested JSON-like dictionary, write a function to flatten it. Each key in the flattened dictionary should represent the full path to the value.\n",
    "\n",
    "**Example Input:**\n",
    "```python\n",
    "{\n",
    "  \"user\": {\n",
    "    \"id\": 1,\n",
    "    \"info\": {\n",
    "      \"name\": \"Alice\",\n",
    "      \"location\": \"NY\"\n",
    "    }\n",
    "  },\n",
    "  \"active\": True\n",
    "}\n",
    "```\n",
    "\n",
    "**Expected Output:**\n",
    "```python\n",
    "{\n",
    "  \"user.id\": 1,\n",
    "  \"user.info.name\": \"Alice\",\n",
    "  \"user.info.location\": \"NY\",\n",
    "  \"active\": True\n",
    "}\n",
    "```\n",
    "\n",
    "**Follow-up:** What would you change if the JSON included lists?"
   ]
  },
  {
   "cell_type": "code",
   "execution_count": 4,
   "metadata": {},
   "outputs": [
    {
     "data": {
      "text/plain": [
       "str"
      ]
     },
     "execution_count": 4,
     "metadata": {},
     "output_type": "execute_result"
    }
   ],
   "source": [
    "import json\n",
    "\n",
    "s = {\n",
    "  \"user\": {\n",
    "    \"id\": 1,\n",
    "    \"info\": {\n",
    "      \"name\": \"Alice\",\n",
    "      \"location\": \"NY\"\n",
    "    }\n",
    "  },\n",
    "  \"active\": True\n",
    "}\n",
    "\n",
    "y = json.dumps(s)\n",
    "type(y)\n"
   ]
  },
  {
   "cell_type": "code",
   "execution_count": null,
   "metadata": {},
   "outputs": [],
   "source": []
  },
  {
   "cell_type": "markdown",
   "metadata": {},
   "source": [
    "### ✅ **2. Find Most Frequent Value in a Log File**\n",
    "\n",
    "**Problem:**\n",
    "You're given a list of strings representing event logs. Write a function to find the most frequent event.\n",
    "\n",
    "**Example Input:**\n",
    "```python\n",
    "logs = [\n",
    "  \"ERROR\",\n",
    "  \"INFO\",\n",
    "  \"DEBUG\",\n",
    "  \"ERROR\",\n",
    "  \"INFO\",\n",
    "  \"ERROR\"\n",
    "]\n",
    "```\n",
    "\n",
    "**Expected Output:**\n",
    "```python\n",
    "\"ERROR\"\n",
    "```\n",
    "\n",
    "**Follow-up:** How would you handle a large file that doesn't fit in memory?"
   ]
  },
  {
   "cell_type": "code",
   "execution_count": null,
   "metadata": {},
   "outputs": [
    {
     "data": {
      "text/plain": [
       "'ERROR'"
      ]
     },
     "execution_count": 7,
     "metadata": {},
     "output_type": "execute_result"
    }
   ],
   "source": [
    "# got a 9 out of 10\n",
    "\n",
    "\n",
    "logs = [\n",
    "  \"ERROR\",\n",
    "  \"INFO\",\n",
    "  \"DEBUG\",\n",
    "  \"ERROR\",\n",
    "  \"INFO\",\n",
    "  \"ERROR\"\n",
    "]\n",
    "\n",
    "ans = {}\n",
    "for i in logs:\n",
    "    if i in ans:\n",
    "        ans[i] += 1\n",
    "    else:\n",
    "        ans[i] = 1\n",
    "\n",
    "ans\n",
    "max(ans, key=ans.get)\n"
   ]
  },
  {
   "cell_type": "markdown",
   "metadata": {},
   "source": [
    "✅ Strengths:\n",
    "Correctness: Your code correctly computes the most frequent log entry.\n",
    "\n",
    "Clarity: It's easy to read and understand.\n",
    "\n",
    "Efficiency: It runs in O(n) time and uses O(k) space, where n is the number of logs and k is the number of unique log types — which is optimal."
   ]
  },
  {
   "cell_type": "markdown",
   "metadata": {},
   "source": [
    "✏️ Optional Improvements:\n",
    "1. Use collections.Counter for conciseness:"
   ]
  },
  {
   "cell_type": "code",
   "execution_count": null,
   "metadata": {},
   "outputs": [
    {
     "data": {
      "text/plain": [
       "Counter({'ERROR': 3, 'INFO': 2, 'DEBUG': 1})"
      ]
     },
     "execution_count": 10,
     "metadata": {},
     "output_type": "execute_result"
    }
   ],
   "source": [
    "from collections import Counter\n",
    "logs = [\n",
    "  \"ERROR\", \"INFO\", \"DEBUG\", \"ERROR\", \"INFO\", \"ERROR\"\n",
    "]\n",
    "most_common = Counter(logs).most_common(1)[0][0]\n",
    "most_common\n",
    "\n",
    "Counter(logs)\n",
    "# so most_common(1) -> [('ERROR',3)]\n",
    "# [0][0] extracts just the 'ERROR'"
   ]
  },
  {
   "cell_type": "markdown",
   "metadata": {},
   "source": [
    "🧠 Follow-up - Large File That Doesn’t Fit in Memory\n",
    "Your current solution assumes all data fits in memory. For large log files, you’d need to:\n",
    "\n",
    "Process the file line by line using a generator or iterator.\n",
    "\n",
    "Keep a frequency map incrementally to avoid loading the entire file at once."
   ]
  },
  {
   "cell_type": "code",
   "execution_count": null,
   "metadata": {},
   "outputs": [],
   "source": [
    "from collections import defaultdict\n",
    "\n",
    "def most_frequent_event(file_path):\n",
    "    counter = defaultdict(int)\n",
    "    with open(file_path, 'r') as f:\n",
    "        for line in f:\n",
    "            event = line.strip()\n",
    "            counter[event] += 1\n",
    "    return max(counter, key=counter.get)\n"
   ]
  },
  {
   "cell_type": "markdown",
   "metadata": {},
   "source": [
    "### ✅ **3. Simulate a Simple ETL Pipeline**\n",
    "\n",
    "**Problem:**\n",
    "You’re given a CSV file containing user data in the format:  \n",
    "`user_id, name, signup_date`\n",
    "\n",
    "Write Python code to:\n",
    "- Load the data from a list of strings (simulate reading from file).\n",
    "- Convert `signup_date` to a `datetime` object.\n",
    "- Return a list of dictionaries sorted by `signup_date`.\n",
    "\n",
    "**Example Input:**\n",
    "```python\n",
    "rows = [\n",
    "  \"1,Alice,2023-06-01\",\n",
    "  \"2,Bob,2023-05-25\",\n",
    "  \"3,Charlie,2023-06-10\"\n",
    "]\n",
    "```\n",
    "\n",
    "**Expected Output:**\n",
    "```python\n",
    "[\n",
    "  {'user_id': 2, 'name': 'Bob', 'signup_date': datetime.date(2023, 5, 25)},\n",
    "  {'user_id': 1, 'name': 'Alice', 'signup_date': datetime.date(2023, 6, 1)},\n",
    "  {'user_id': 3, 'name': 'Charlie', 'signup_date': datetime.date(2023, 6, 10)}\n",
    "]\n",
    "```\n",
    "\n",
    "**Follow-up:** How would you handle invalid date formats in real data?"
   ]
  },
  {
   "cell_type": "code",
   "execution_count": null,
   "metadata": {},
   "outputs": [
    {
     "data": {
      "text/plain": [
       "[{'user_id': '1', 'name': 'Alice', 'signup_date': datetime.date(2023, 6, 1)},\n",
       " {'user_id': '2', 'name': 'Bob', 'signup_date': datetime.date(2023, 5, 25)},\n",
       " {'user_id': '3',\n",
       "  'name': 'Charlie',\n",
       "  'signup_date': datetime.date(2023, 6, 10)},\n",
       " {'user_id': '4', 'name': 'David', 'signup_date': datetime.date(2023, 5, 30)},\n",
       " {'user_id': '5', 'name': 'Eve', 'signup_date': datetime.date(2023, 6, 5)}]"
      ]
     },
     "execution_count": 75,
     "metadata": {},
     "output_type": "execute_result"
    }
   ],
   "source": [
    "# got an 8.5 of of 10\n",
    "import csv\n",
    "from datetime import datetime\n",
    "\n",
    "# import data from csv file\n",
    "\n",
    "data = []\n",
    "with open('./test_data/problems1.csv', mode='r') as file:\n",
    "    csv_file = csv.reader(file)\n",
    "    for i in csv_file: # append each row to list\n",
    "        data.append(i)\n",
    "\n",
    "\n",
    "for item in data:\n",
    "    if isinstance(item[2], str):  # Check if it's a string\n",
    "        b = item[2]\n",
    "        c = datetime.strptime(b, '%Y-%m-%d').date()\n",
    "        item[2] = c\n",
    "\n",
    "labels = ['user_id', 'name', 'signup_date']\n",
    "\n",
    "ans = []\n",
    "for item in data:\n",
    "    ans.append(dict(zip(labels, item)))\n",
    "\n",
    "ans\n"
   ]
  },
  {
   "cell_type": "markdown",
   "metadata": {},
   "source": [
    "### answer, you didn't read the full instructions"
   ]
  },
  {
   "cell_type": "code",
   "execution_count": 77,
   "metadata": {},
   "outputs": [
    {
     "data": {
      "text/plain": [
       "[{'user_id': 2, 'name': 'Bob', 'signup_date': datetime.date(2023, 5, 25)},\n",
       " {'user_id': 1, 'name': 'Alice', 'signup_date': datetime.date(2023, 6, 1)},\n",
       " {'user_id': 3, 'name': 'Charlie', 'signup_date': datetime.date(2023, 6, 10)}]"
      ]
     },
     "execution_count": 77,
     "metadata": {},
     "output_type": "execute_result"
    }
   ],
   "source": [
    "from datetime import datetime\n",
    "\n",
    "rows = [\n",
    "  \"1,Alice,2023-06-01\",\n",
    "  \"2,Bob,2023-05-25\",\n",
    "  \"3,Charlie,2023-06-10\"\n",
    "]\n",
    "\n",
    "ans = []\n",
    "for row in rows:\n",
    "    user_id, name, signup = row.split(',')\n",
    "    ans.append({\n",
    "        'user_id': int(user_id),\n",
    "        'name': name,\n",
    "        'signup_date': datetime.strptime(signup, '%Y-%m-%d').date()\n",
    "    })\n",
    "\n",
    "# Sort by signup_date\n",
    "ans.sort(key=lambda x: x['signup_date'])\n",
    "ans"
   ]
  },
  {
   "cell_type": "markdown",
   "metadata": {},
   "source": []
  }
 ],
 "metadata": {
  "kernelspec": {
   "display_name": "Python 3",
   "language": "python",
   "name": "python3"
  },
  "language_info": {
   "codemirror_mode": {
    "name": "ipython",
    "version": 3
   },
   "file_extension": ".py",
   "mimetype": "text/x-python",
   "name": "python",
   "nbconvert_exporter": "python",
   "pygments_lexer": "ipython3",
   "version": "3.11.9"
  }
 },
 "nbformat": 4,
 "nbformat_minor": 2
}
