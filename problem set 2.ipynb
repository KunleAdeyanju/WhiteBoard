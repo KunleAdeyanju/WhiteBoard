{
 "cells": [
  {
   "cell_type": "markdown",
   "metadata": {},
   "source": [
    "\n",
    "You receive a list of event IDs collected from a message queue. Some of the events are duplicates.\n",
    "\n",
    "Write a function `dedup_events(events)` that returns a new list with duplicates removed **but** preserves the original order.\n",
    "\n",
    "Example:\n",
    "Input:  [3, 5, 3, 7, 5, 9]\n",
    "Output: [3, 5, 7, 9]\n",
    "\"\"\"\n"
   ]
  },
  {
   "cell_type": "markdown",
   "metadata": {},
   "source": []
  }
 ],
 "metadata": {
  "language_info": {
   "name": "python"
  }
 },
 "nbformat": 4,
 "nbformat_minor": 2
}
