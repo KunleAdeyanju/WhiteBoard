{
 "cells": [
  {
   "cell_type": "markdown",
   "id": "575de614",
   "metadata": {},
   "source": [
    "The included code stub will read an integer, , from STDIN.\n",
    "\n",
    "Without using any string methods, try to print the following:\n",
    "123...n\n",
    "\n",
    "Note that \"\" represents the consecutive values in between.\n",
    " e.g\n",
    " n=5\n",
    "\n",
    " print the string 12345."
   ]
  },
  {
   "cell_type": "code",
   "execution_count": 4,
   "id": "ae1d0be1",
   "metadata": {},
   "outputs": [
    {
     "name": "stdout",
     "output_type": "stream",
     "text": [
      "123456\n"
     ]
    }
   ],
   "source": [
    "if __name__ == '__main__':\n",
    "    #n = int(input())\n",
    "    n = 6\n",
    "    \n",
    "    h = [] # sets empty list\n",
    "    for i in range(1,n+1):\n",
    "        # adds number to the list AS a string very important\n",
    "        h.append(str(i)) \n",
    "    \n",
    "    # expects elements being joined to be lists\n",
    "    hrr = ''.join(h)\n",
    "    print(hrr)"
   ]
  },
  {
   "cell_type": "markdown",
   "id": "dd5f7cb8",
   "metadata": {},
   "source": [
    "An extra day is added to the calendar almost every four years as February 29, and the day is called a leap day. It corrects the calendar for the fact that our planet takes approximately 365.25 days to orbit the sun. A leap year contains a leap day.\n",
    "\n",
    "In the Gregorian calendar, three conditions are used to identify leap years:\n",
    "\n",
    "The year can be evenly divided by 4, is a leap year, unless:\n",
    "The year can be evenly divided by 100, it is NOT a leap year, unless:\n",
    "The year is also evenly divisible by 400. Then it is a leap year.\n",
    "This means that in the Gregorian calendar, the years 2000 and 2400 are leap years, while 1800, 1900, 2100, 2200, 2300 and 2500 are NOT leap years. Source\n",
    "\n",
    "Task\n",
    "\n",
    "Given a year, determine whether it is a leap year. If it is a leap year, return the Boolean True, otherwise return False.\n",
    "\n",
    "Note that the code stub provided reads from STDIN and passes arguments to the is_leap function. It is only necessary to complete the is_leap function."
   ]
  },
  {
   "cell_type": "code",
   "execution_count": 5,
   "id": "387b1ea8",
   "metadata": {},
   "outputs": [
    {
     "name": "stdout",
     "output_type": "stream",
     "text": [
      "False\n"
     ]
    }
   ],
   "source": [
    "def is_leap(year):\n",
    "    leap = False\n",
    "    \n",
    "    # Write your logic here\n",
    "    if year % 4 == 0 and year % 100 == 0 and year % 400 == 0:\n",
    "        leap = True\n",
    "    \n",
    "    if year % 4 == 0 and year % 100 != 0:\n",
    "        leap = True\n",
    "        \n",
    "    \n",
    "    return leap\n",
    "\n",
    "year = int(input())\n",
    "print(is_leap(year))"
   ]
  },
  {
   "cell_type": "markdown",
   "id": "837ed02a",
   "metadata": {},
   "source": [
    "\n",
    "\n",
    "#### Task\n",
    "\n",
    "You are given a polynomial P of a single indeterminate (or variable), x.\n",
    "\n",
    "You are also given the values of x and k. Your task is to verify if P(x) = k.\n",
    "\n",
    "\n",
    "\n",
    "Constraints\n",
    "\n",
    "All coefficients of polynomial P are integers.\n",
    "\n",
    "x and y are also integers.\n",
    "\n",
    "\n",
    "\n",
    "Input Format\n",
    "\n",
    "The first line contains the space separated values of x and k.\n",
    "\n",
    "The second line contains the polynomial P.\n",
    "\n",
    "\n",
    "\n",
    "Output Format\n",
    "\n",
    "Print True if P(x) = K. Otherwise, print False.\n",
    "\n",
    "Sample Input\n",
    "\n",
    "1 4\n",
    "\n",
    "x**3 + x**2 + x + 1"
   ]
  },
  {
   "cell_type": "code",
   "execution_count": null,
   "id": "a6040014",
   "metadata": {},
   "outputs": [],
   "source": [
    "x,k = map ( int , input().split())\n",
    "s = input()\n",
    "print (eval(s) == k)"
   ]
  },
  {
   "cell_type": "code",
   "execution_count": null,
   "id": "112def1e",
   "metadata": {},
   "outputs": [],
   "source": [
    "# You might need to install it first: pip install numpy\n",
    "import numpy as np\n",
    "\n",
    "# Input format would need to change\n",
    "x, k = map(int, input().split())\n",
    "# Input coefficients, e.g., \"1 1 1 1\" for x**3 + x**2 + x + 1\n",
    "coefficients = list(map(int, input().split()))\n",
    "\n",
    "# Evaluate the polynomial with the given coefficients at point x\n",
    "result = np.polyval(coefficients, x)\n",
    "\n",
    "print(result == k)"
   ]
  },
  {
   "cell_type": "markdown",
   "id": "2fe0f9da",
   "metadata": {},
   "source": [
    "The eval() expression is a very powerful built-in function of Python. It helps in evaluating an expression. The expression can be a Python statement, or a code object.\n",
    "\n",
    "For example:\n",
    "\n",
    ">>> eval(\"9 + 5\")\n",
    "14\n",
    ">>> x = 2\n",
    ">>> eval(\"x + 3\")\n",
    "5\n",
    "Here, eval() can also be used to work with Python keywords or defined functions and variables. These would normally be stored as strings.\n",
    "\n",
    "For example:\n",
    "\n",
    ">>> type(eval(\"len\"))\n",
    "<type 'builtin_function_or_method'>\n",
    "Without eval()\n",
    "\n",
    ">>> type(\"len\")\n",
    "<type 'str'>"
   ]
  },
  {
   "cell_type": "markdown",
   "id": "64d49d69",
   "metadata": {},
   "source": [
    "Task\n",
    "You are given an expression in a line. Read that line as a string variable, such as var, and print the result using eval(var).\n",
    "\n",
    "a lot of it is reading input from line"
   ]
  },
  {
   "cell_type": "code",
   "execution_count": null,
   "id": "f753389f",
   "metadata": {},
   "outputs": [],
   "source": [
    "var = input()\n",
    "\n",
    "eval(var)"
   ]
  },
  {
   "cell_type": "markdown",
   "id": "141fd41e",
   "metadata": {},
   "source": [
    "You are given a spreadsheet that contains a list of  athletes and their details (such as age, height, weight and so on). You are required to sort the data based on the th attribute and print the final resulting table. Follow the example given below for better understanding.\n",
    "\n",
    "image\n",
    "\n",
    "Note that  is indexed from  to , where  is the number of attributes.\n",
    "\n",
    "Note: If two attributes are the same for different rows, for example, if two atheletes are of the same age, print the row that appeared first in the input.\n",
    "\n",
    "Input Format\n",
    "\n",
    "The first line contains  and  separated by a space.\n",
    "The next  lines each contain  elements.\n",
    "The last line contains .\n",
    "\n",
    "this is the sample input:\n",
    "\n",
    "5 3\n",
    "\n",
    "10 2 5\n",
    "\n",
    "7 1 0\n",
    "\n",
    "9 9 9\n",
    "\n",
    "1 23 12\n",
    "\n",
    "6 5 9\n",
    "\n",
    "1\n",
    "\n",
    "epected out put:\n",
    "7 1 0\n",
    "10 2 5\n",
    "6 5 9\n",
    "9 9 9\n",
    "1 23 12"
   ]
  },
  {
   "cell_type": "code",
   "execution_count": null,
   "id": "21c38f7e",
   "metadata": {},
   "outputs": [],
   "source": [
    "#!/bin/python3\n",
    "\n",
    "import math\n",
    "import os\n",
    "import random\n",
    "import re\n",
    "import sys\n",
    "\n",
    "\n",
    "\n",
    "if __name__ == '__main__':\n",
    "    first_multiple_input = input().rstrip().split()\n",
    "\n",
    "    n = int(first_multiple_input[0])\n",
    "\n",
    "    m = int(first_multiple_input[1])\n",
    "\n",
    "    arr = []\n",
    "\n",
    "    for _ in range(n):\n",
    "        arr.append(list(map(int, input().rstrip().split())))\n",
    "\n",
    "    k = int(input().strip())\n",
    "    \n",
    "    arr.sort(key = lambda x:x[k])\n",
    "    \n",
    "    for i in arr:\n",
    "        print(*i)"
   ]
  },
  {
   "cell_type": "markdown",
   "id": "38a7fa40",
   "metadata": {},
   "source": [
    "## SQL"
   ]
  },
  {
   "cell_type": "markdown",
   "id": "db07030c",
   "metadata": {},
   "source": [
    "Query the two cities in STATION with the shortest and longest CITY names, as well as their respective lengths (i.e.: number of characters in the name). If there is more than one smallest or largest city, choose the one that comes first when ordered alphabetically.\n",
    "The STATION table is described as follows:\n",
    "\n",
    "![schema](resources/station_schema.jpg)"
   ]
  },
  {
   "cell_type": "code",
   "execution_count": null,
   "id": "381e1254",
   "metadata": {},
   "outputs": [],
   "source": [
    "'''\n",
    "SELECT CITY, CHAR_LENGTH(CITY)\n",
    "FROM STATION\n",
    "ORDER BY CHAR_LENGTH(CITY) ASC, CITY ASC\n",
    "LIMIT 1;\n",
    "\n",
    "SELECT CITY, CHAR_LENGTH(CITY)\n",
    "FROM STATION\n",
    "ORDER BY CHAR_LENGTH(CITY) DESC, CITY ASC\n",
    "LIMIT 1;\n",
    "'''"
   ]
  },
  {
   "cell_type": "markdown",
   "id": "20373d8a",
   "metadata": {},
   "source": [
    "Query the list of CITY names starting with vowels (i.e., a, e, i, o, or u) from STATION. Your result cannot contain duplicates."
   ]
  },
  {
   "cell_type": "code",
   "execution_count": null,
   "id": "e3b32d35",
   "metadata": {},
   "outputs": [],
   "source": [
    "'''\n",
    "SELECT CITY\n",
    "FROM STATION\n",
    "WHERE CITY LIKE \"A%\" \n",
    "    OR CITY LIKE \"E%\" \n",
    "    OR CITY LIKE \"I%\"\n",
    "    OR CITY LIKE \"O%\"\n",
    "    OR CITY LIKE \"U%\"\n",
    "'''"
   ]
  },
  {
   "cell_type": "markdown",
   "id": "f3e05248",
   "metadata": {},
   "source": [
    "Query the list of CITY names ending with vowels (a, e, i, o, u) from STATION. Your result cannot contain duplicates."
   ]
  },
  {
   "cell_type": "code",
   "execution_count": null,
   "id": "4156e258",
   "metadata": {},
   "outputs": [],
   "source": [
    "'''\n",
    "SELECT DISTINCT(CITY)\n",
    "FROM STATION\n",
    "WHERE CITY LIKE \"%a\" \n",
    "    OR CITY LIKE \"%e\" \n",
    "    OR CITY LIKE \"%i\"\n",
    "    OR CITY LIKE \"%o\"\n",
    "    OR CITY LIKE \"%u\"\n",
    "'''"
   ]
  },
  {
   "cell_type": "markdown",
   "id": "71fca556",
   "metadata": {},
   "source": [
    "Query the list of CITY names from STATION which have vowels (i.e., a, e, i, o, and u) as both their first and last characters. Your result cannot contain duplicates."
   ]
  },
  {
   "cell_type": "code",
   "execution_count": null,
   "id": "fa0dd1c4",
   "metadata": {},
   "outputs": [],
   "source": [
    "'''\n",
    "SELECT DISTINCT(CITY)\n",
    "FROM STATION\n",
    "WHERE LEFT(CITY,1) IN ('A','E','I','O', 'U')\n",
    "    AND RIGHT(CITY,1) IN ('A','E','I','O', 'U')\n",
    "'''"
   ]
  },
  {
   "cell_type": "markdown",
   "id": "ddf6af1a",
   "metadata": {},
   "source": [
    "Query the list of CITY names from STATION that do not start with vowels. Your result cannot contain duplicates."
   ]
  },
  {
   "cell_type": "code",
   "execution_count": null,
   "id": "1c088675",
   "metadata": {},
   "outputs": [],
   "source": [
    "'''\n",
    "SELECT DISTINCT(CITY)\n",
    "FROM STATION\n",
    "WHERE LEFT(CITY,1) NOT IN ('A','E','I','O', 'U')\n",
    "'''"
   ]
  },
  {
   "cell_type": "markdown",
   "id": "483862c6",
   "metadata": {},
   "source": [
    "Query the list of CITY names from STATION that either do not start with vowels or do not end with vowels. Your result cannot contain duplicates."
   ]
  },
  {
   "cell_type": "code",
   "execution_count": null,
   "id": "064dd51e",
   "metadata": {},
   "outputs": [],
   "source": [
    "'''\n",
    "SELECT DISTINCT(CITY)\n",
    "FROM STATION\n",
    "WHERE LEFT(CITY,1) NOT IN ('A','E','I','O', 'U')\n",
    "    OR RIGHT(CITY,1) NOT IN ('A','E','I','O', 'U')\n",
    "'''"
   ]
  }
 ],
 "metadata": {
  "kernelspec": {
   "display_name": "Python 3",
   "language": "python",
   "name": "python3"
  },
  "language_info": {
   "codemirror_mode": {
    "name": "ipython",
    "version": 3
   },
   "file_extension": ".py",
   "mimetype": "text/x-python",
   "name": "python",
   "nbconvert_exporter": "python",
   "pygments_lexer": "ipython3",
   "version": "3.11.9"
  }
 },
 "nbformat": 4,
 "nbformat_minor": 5
}
