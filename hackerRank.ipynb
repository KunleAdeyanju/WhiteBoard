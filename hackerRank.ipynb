{
 "cells": [
  {
   "cell_type": "markdown",
   "id": "575de614",
   "metadata": {},
   "source": [
    "The included code stub will read an integer, , from STDIN.\n",
    "\n",
    "Without using any string methods, try to print the following:\n",
    "123...n\n",
    "\n",
    "Note that \"\" represents the consecutive values in between.\n",
    " e.g\n",
    " n=5\n",
    "\n",
    " print the string 12345."
   ]
  },
  {
   "cell_type": "code",
   "execution_count": 4,
   "id": "ae1d0be1",
   "metadata": {},
   "outputs": [
    {
     "name": "stdout",
     "output_type": "stream",
     "text": [
      "123456\n"
     ]
    }
   ],
   "source": [
    "if __name__ == '__main__':\n",
    "    #n = int(input())\n",
    "    n = 6\n",
    "    \n",
    "    h = [] # sets empty list\n",
    "    for i in range(1,n+1):\n",
    "        # adds number to the list AS a string very important\n",
    "        h.append(str(i)) \n",
    "    \n",
    "    # expects elements being joined to be lists\n",
    "    hrr = ''.join(h)\n",
    "    print(hrr)"
   ]
  },
  {
   "cell_type": "code",
   "execution_count": null,
   "id": "387b1ea8",
   "metadata": {},
   "outputs": [],
   "source": []
  }
 ],
 "metadata": {
  "kernelspec": {
   "display_name": "Python 3",
   "language": "python",
   "name": "python3"
  },
  "language_info": {
   "codemirror_mode": {
    "name": "ipython",
    "version": 3
   },
   "file_extension": ".py",
   "mimetype": "text/x-python",
   "name": "python",
   "nbconvert_exporter": "python",
   "pygments_lexer": "ipython3",
   "version": "3.11.9"
  }
 },
 "nbformat": 4,
 "nbformat_minor": 5
}
