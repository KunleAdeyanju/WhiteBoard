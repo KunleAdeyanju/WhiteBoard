{
 "cells": [
  {
   "cell_type": "markdown",
   "id": "575de614",
   "metadata": {},
   "source": [
    "The included code stub will read an integer, , from STDIN.\n",
    "\n",
    "Without using any string methods, try to print the following:\n",
    "123...n\n",
    "\n",
    "Note that \"\" represents the consecutive values in between.\n",
    " e.g\n",
    " n=5\n",
    "\n",
    " print the string 12345."
   ]
  },
  {
   "cell_type": "code",
   "execution_count": 4,
   "id": "ae1d0be1",
   "metadata": {},
   "outputs": [
    {
     "name": "stdout",
     "output_type": "stream",
     "text": [
      "123456\n"
     ]
    }
   ],
   "source": [
    "if __name__ == '__main__':\n",
    "    #n = int(input())\n",
    "    n = 6\n",
    "    \n",
    "    h = [] # sets empty list\n",
    "    for i in range(1,n+1):\n",
    "        # adds number to the list AS a string very important\n",
    "        h.append(str(i)) \n",
    "    \n",
    "    # expects elements being joined to be lists\n",
    "    hrr = ''.join(h)\n",
    "    print(hrr)"
   ]
  },
  {
   "cell_type": "markdown",
   "id": "dd5f7cb8",
   "metadata": {},
   "source": [
    "An extra day is added to the calendar almost every four years as February 29, and the day is called a leap day. It corrects the calendar for the fact that our planet takes approximately 365.25 days to orbit the sun. A leap year contains a leap day.\n",
    "\n",
    "In the Gregorian calendar, three conditions are used to identify leap years:\n",
    "\n",
    "The year can be evenly divided by 4, is a leap year, unless:\n",
    "The year can be evenly divided by 100, it is NOT a leap year, unless:\n",
    "The year is also evenly divisible by 400. Then it is a leap year.\n",
    "This means that in the Gregorian calendar, the years 2000 and 2400 are leap years, while 1800, 1900, 2100, 2200, 2300 and 2500 are NOT leap years. Source\n",
    "\n",
    "Task\n",
    "\n",
    "Given a year, determine whether it is a leap year. If it is a leap year, return the Boolean True, otherwise return False.\n",
    "\n",
    "Note that the code stub provided reads from STDIN and passes arguments to the is_leap function. It is only necessary to complete the is_leap function."
   ]
  },
  {
   "cell_type": "code",
   "execution_count": 5,
   "id": "387b1ea8",
   "metadata": {},
   "outputs": [
    {
     "name": "stdout",
     "output_type": "stream",
     "text": [
      "False\n"
     ]
    }
   ],
   "source": [
    "def is_leap(year):\n",
    "    leap = False\n",
    "    \n",
    "    # Write your logic here\n",
    "    if year % 4 == 0 and year % 100 == 0 and year % 400 == 0:\n",
    "        leap = True\n",
    "    \n",
    "    if year % 4 == 0 and year % 100 != 0:\n",
    "        leap = True\n",
    "        \n",
    "    \n",
    "    return leap\n",
    "\n",
    "year = int(input())\n",
    "print(is_leap(year))"
   ]
  },
  {
   "cell_type": "markdown",
   "id": "837ed02a",
   "metadata": {},
   "source": [
    "\n",
    "\n",
    "#### Task\n",
    "\n",
    "You are given a polynomial P of a single indeterminate (or variable), x.\n",
    "\n",
    "You are also given the values of x and k. Your task is to verify if P(x) = k.\n",
    "\n",
    "\n",
    "\n",
    "Constraints\n",
    "\n",
    "All coefficients of polynomial P are integers.\n",
    "\n",
    "x and y are also integers.\n",
    "\n",
    "\n",
    "\n",
    "Input Format\n",
    "\n",
    "The first line contains the space separated values of x and k.\n",
    "\n",
    "The second line contains the polynomial P.\n",
    "\n",
    "\n",
    "\n",
    "Output Format\n",
    "\n",
    "Print True if P(x) = K. Otherwise, print False.\n",
    "\n",
    "Sample Input\n",
    "\n",
    "1 4\n",
    "\n",
    "x**3 + x**2 + x + 1"
   ]
  },
  {
   "cell_type": "code",
   "execution_count": null,
   "id": "a6040014",
   "metadata": {},
   "outputs": [],
   "source": [
    "x,k = map ( int , input().split())\n",
    "s = input()\n",
    "print (eval(s) == k)"
   ]
  },
  {
   "cell_type": "code",
   "execution_count": null,
   "id": "112def1e",
   "metadata": {},
   "outputs": [],
   "source": []
  }
 ],
 "metadata": {
  "kernelspec": {
   "display_name": "Python 3",
   "language": "python",
   "name": "python3"
  },
  "language_info": {
   "codemirror_mode": {
    "name": "ipython",
    "version": 3
   },
   "file_extension": ".py",
   "mimetype": "text/x-python",
   "name": "python",
   "nbconvert_exporter": "python",
   "pygments_lexer": "ipython3",
   "version": "3.11.9"
  }
 },
 "nbformat": 4,
 "nbformat_minor": 5
}
