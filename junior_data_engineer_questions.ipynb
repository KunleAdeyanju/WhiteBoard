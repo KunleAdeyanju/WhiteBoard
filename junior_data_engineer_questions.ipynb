{
 "cells": [
  {
   "cell_type": "markdown",
   "id": "70527a93",
   "metadata": {},
   "source": [
    "## ✅ Question 1: Parse and Aggregate CSV Data\n",
    "\n",
    "You are given a CSV-like list of strings where each string contains a user's name and the number of files they uploaded.\n",
    "\n",
    "```python\n",
    "logs = [\n",
    "    \"alice,5\",\n",
    "    \"bob,3\",\n",
    "    \"alice,2\",\n",
    "    \"charlie,7\"\n",
    "]\n",
    "```\n",
    "\n",
    "**Task:**  \n",
    "Write a function that returns a dictionary with the total number of files uploaded by each user.\n",
    "\n",
    "**Expected Output:**\n",
    "```python\n",
    "{\n",
    "    'alice': 7,\n",
    "    'bob': 3,\n",
    "    'charlie': 7\n",
    "}\n",
    "```"
   ]
  },
  {
   "cell_type": "code",
   "execution_count": null,
   "id": "35d815e4",
   "metadata": {},
   "outputs": [
    {
     "ename": "SyntaxError",
     "evalue": "'function call' is an illegal expression for augmented assignment (3260016512.py, line 22)",
     "output_type": "error",
     "traceback": [
      "  \u001b[36mCell\u001b[39m\u001b[36m \u001b[39m\u001b[32mIn[2]\u001b[39m\u001b[32m, line 22\u001b[39m\n\u001b[31m    \u001b[39m\u001b[31mint(sep_logs[b[0]]) += int(b[1])\u001b[39m\n    ^\n\u001b[31mSyntaxError\u001b[39m\u001b[31m:\u001b[39m 'function call' is an illegal expression for augmented assignment\n"
     ]
    }
   ],
   "source": [
    "# Your solution for Question 1\n",
    "\n",
    "logs = [\n",
    "    \"alice,5\",\n",
    "    \"bob,3\",\n",
    "    \"alice,2\",\n",
    "    \"charlie,7\"\n",
    "]\n",
    "\n",
    "# ans = {}\n",
    "\n",
    "# for i in logs:\n",
    "#     if i in ans:\n",
    "#         ans[i] += 1\n",
    "#     else:\n",
    "#         ans[i]\n",
    "\n",
    "sep_logs  = {}\n",
    "for i in logs:\n",
    "    b = i.split(',')\n",
    "    if b[0] in sep_logs:\n",
    "       sep_logs[b[0]] = int(sep_logs[b[0]]) + int(b[1])\n",
    "    else:\n",
    "        sep_logs[b[0]] = b[1]\n",
    "\n",
    "sep_logs\n"
   ]
  },
  {
   "cell_type": "markdown",
   "id": "c2acddda",
   "metadata": {},
   "source": [
    "## ✅ Question 2: Remove Duplicates While Preserving Order\n",
    "\n",
    "You receive a list of event IDs collected from a message queue. Some of the events are duplicates.\n",
    "\n",
    "```python\n",
    "events = [3, 5, 3, 7, 5, 9]\n",
    "```\n",
    "\n",
    "**Task:**  \n",
    "Write a function `dedup_events(events)` that returns a new list with duplicates removed **but preserves the original order**.\n",
    "\n",
    "**Expected Output:**\n",
    "```python\n",
    "[3, 5, 7, 9]\n",
    "```"
   ]
  },
  {
   "cell_type": "code",
   "execution_count": null,
   "id": "cbe7e7c4",
   "metadata": {},
   "outputs": [],
   "source": [
    "# Your solution for Question 2\n"
   ]
  },
  {
   "cell_type": "markdown",
   "id": "0ea8b22e",
   "metadata": {},
   "source": [
    "## ✅ Question 3: Implement a Basic ETL Transform Step\n",
    "\n",
    "You are given a list of dictionaries, each representing a record from a raw data source.\n",
    "\n",
    "```python\n",
    "raw_data = [\n",
    "    {\"user_id\": \"123\", \"signup_date\": \"2023-01-05\"},\n",
    "    {\"user_id\": \"456\", \"signup_date\": \"2023-03-12\"},\n",
    "]\n",
    "```\n",
    "\n",
    "**Task:**  \n",
    "Write a function `transform(data)` that:\n",
    "\n",
    "- Converts `user_id` to an integer  \n",
    "- Formats `signup_date` as `\"MM-DD-YYYY\"`\n",
    "\n",
    "**Expected Output:**\n",
    "```python\n",
    "[\n",
    "    {\"user_id\": 123, \"signup_date\": \"01-05-2023\"},\n",
    "    {\"user_id\": 456, \"signup_date\": \"03-12-2023\"},\n",
    "]\n",
    "```"
   ]
  },
  {
   "cell_type": "code",
   "execution_count": null,
   "id": "f93f750d",
   "metadata": {},
   "outputs": [],
   "source": [
    "# Your solution for Question 3\n"
   ]
  }
 ],
 "metadata": {
  "kernelspec": {
   "display_name": "Python 3",
   "language": "python",
   "name": "python3"
  },
  "language_info": {
   "codemirror_mode": {
    "name": "ipython",
    "version": 3
   },
   "file_extension": ".py",
   "mimetype": "text/x-python",
   "name": "python",
   "nbconvert_exporter": "python",
   "pygments_lexer": "ipython3",
   "version": "3.11.9"
  }
 },
 "nbformat": 4,
 "nbformat_minor": 5
}
